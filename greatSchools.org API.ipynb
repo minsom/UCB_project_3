{
 "cells": [
  {
   "cell_type": "code",
   "execution_count": 13,
   "metadata": {},
   "outputs": [],
   "source": [
    "# Dependencies\n",
    "\n",
    "# from config import (census_key, gkey)\n",
    "from scipy.stats import linregress\n",
    "import statsmodels.api as sm\n",
    "\n",
    "import gmaps\n",
    "import numpy as np\n",
    "import pandas as pd\n",
    "import matplotlib.pyplot as plt\n",
    "import requests\n",
    "import json\n",
    "import time\n",
    "\n",
    "import requests\n",
    "from pprint import pprint"
   ]
  },
  {
   "cell_type": "code",
   "execution_count": 17,
   "metadata": {},
   "outputs": [
    {
     "data": {
      "text/plain": [
       "b'<?xml version=\"1.0\" encoding=\"UTF-8\" standalone=\"yes\"?><school><gsId>1</gsId><name>Alameda High School</name><type>public</type><gradeRange>9-12</gradeRange><enrollment>1853</enrollment><gsRating>9</gsRating><city>Alameda</city><state>CA</state><districtId>1</districtId><district>Alameda Unified School District</district><districtNCESId>0601770</districtNCESId><address>2201 Encinal Avenue, \\nAlameda, CA  94501</address><phone>(510) 337-7022</phone><fax>(510) 521-4740</fax><website>http://aus.alamedausd.ca.schoolloop.com/</website><ncesId>060177000041</ncesId><lat>37.764294</lat><lon>-122.24807</lon><overviewLink>https://www.greatschools.org/california/alameda/1-Alameda-High-School/?utm_source=GSAPI&amp;utm_medium=referral</overviewLink><ratingsLink>https://www.greatschools.org/california/alameda/1-Alameda-High-School/?utm_source=GSAPI&amp;utm_medium=referral</ratingsLink><reviewsLink>https://www.greatschools.org/california/alameda/1-Alameda-High-School/?utm_source=GSAPI&amp;utm_medium=referral#Reviews</reviewsLink><parentReviews/><schoolStatsLink>https://www.greatschools.org/california/alameda/1-Alameda-High-School/?utm_source=GSAPI&amp;utm_medium=referral</schoolStatsLink></school>'"
      ]
     },
     "execution_count": 17,
     "metadata": {},
     "output_type": "execute_result"
    }
   ],
   "source": [
    "URL = 'https://api.greatschools.org/schools/CA/1?key=71c0733d882cd6461374cc728193ed49'\n",
    "api_key = '71c0733d882cd6461374cc728193ed49'\n",
    "\n",
    "response = requests.get(URL)\n",
    "response.content"
   ]
  },
  {
   "cell_type": "code",
   "execution_count": null,
   "metadata": {},
   "outputs": [],
   "source": []
  },
  {
   "cell_type": "code",
   "execution_count": null,
   "metadata": {},
   "outputs": [],
   "source": []
  },
  {
   "cell_type": "code",
   "execution_count": null,
   "metadata": {},
   "outputs": [],
   "source": []
  },
  {
   "cell_type": "code",
   "execution_count": null,
   "metadata": {},
   "outputs": [],
   "source": []
  },
  {
   "cell_type": "code",
   "execution_count": null,
   "metadata": {},
   "outputs": [],
   "source": []
  }
 ],
 "metadata": {
  "kernelspec": {
   "display_name": "Python 3",
   "language": "python",
   "name": "python3"
  },
  "language_info": {
   "codemirror_mode": {
    "name": "ipython",
    "version": 3
   },
   "file_extension": ".py",
   "mimetype": "text/x-python",
   "name": "python",
   "nbconvert_exporter": "python",
   "pygments_lexer": "ipython3",
   "version": "3.7.3"
  }
 },
 "nbformat": 4,
 "nbformat_minor": 2
}
