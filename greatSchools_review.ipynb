{
 "cells": [
  {
   "cell_type": "code",
   "execution_count": 2,
   "metadata": {},
   "outputs": [],
   "source": [
    "# Dependencies\n",
    "import requests\n",
    "import xml.etree.ElementTree as ET # to parse XML\n",
    "import csv\n",
    "from config import API_KEY\n",
    "\n",
    "import numpy as np\n",
    "import pandas as pd"
   ]
  },
  {
   "cell_type": "markdown",
   "metadata": {},
   "source": [
    "# API source : GreatSchools\n",
    "https://www.greatschools.org/api/docs/technical-overview/\n",
    "response is returned in XML format.\n",
    "\n",
    "* XML format explanation : https://www.w3schools.com/xml/xml_tree.asp\n",
    "* cf. parsing example : https://www.datacamp.com/community/tutorials/python-xml-elementtree"
   ]
  },
  {
   "cell_type": "markdown",
   "metadata": {},
   "source": [
    "## School Review data 'CA'\n",
    "Retrieving data from <b>School Reviews</b> API.\n",
    "\n",
    "Examples of usage:\n",
    "* https://api.greatschools.org/reviews/school/CA/1?key=[yourAPIkey]\n",
    "Returns 5 most recent reviews for the school in California with GreatSchools ID of 1.\n",
    "* https://api.greatschools.org/reviews/school/CA/1?key=[yourAPIkey]&topicId=1\n",
    "Returns 5 most recent topical reviews with topic id of 1 for the school in California with GreatSchools ID of 1.\n",
    "* https://api.greatschools.org/reviews/city/CA/Alameda?key=[yourAPIkey]&limit=10&cutoffAge=7\n",
    "Returns the 10 most recent reviews for schools in the city of Alameda, CA. Only returns reviews from the past 7 days.\n",
    "* https://api.greatschools.org/reviews/city/CA/Alameda?key=[yourAPIkey]&limit=10&cutoffAge=7&topicId=1\n",
    "Returns the 10 most recent topical reviews with topic id of 1 for schools in the city of Alameda, CA. Only returns reviews from the past 7 days.\n",
    "\n",
    "Sample Request\n",
    "* https://api.greatschools.org/reviews/city/CA/Alameda?key=[yourAPIkey]&limit=2\n",
    "Returns 2 most recent reviews for schools in the city of Alameda, CA."
   ]
  },
  {
   "cell_type": "code",
   "execution_count": 26,
   "metadata": {},
   "outputs": [
    {
     "name": "stdout",
     "output_type": "stream",
     "text": [
      "https://api.greatschools.org/reviews/city/CA/San-Mateo?key=71c0733d882cd6461374cc728193ed49\n"
     ]
    }
   ],
   "source": [
    "# URL prep\n",
    "URL = 'https://api.greatschools.org/reviews/city/CA/San-Mateo?'\n",
    "queryURL = f'{URL}key={API_KEY}'\n",
    "\n",
    "# print(queryURL)"
   ]
  },
  {
   "cell_type": "code",
   "execution_count": 19,
   "metadata": {},
   "outputs": [
    {
     "name": "stdout",
     "output_type": "stream",
     "text": [
      "   0\n",
      "0  1\n",
      "1  2\n",
      "2  4\n",
      "3  5\n",
      "4  6\n",
      "15762\n"
     ]
    },
    {
     "data": {
      "text/plain": [
       "[1, 2, 4, 5, 6, 7, 8, 9, 10, 12]"
      ]
     },
     "execution_count": 19,
     "metadata": {},
     "output_type": "execute_result"
    }
   ],
   "source": [
    "# read gsID_CA.csv to retrieve all gsIds of CA for making API calls\n",
    "gsID_CA = pd.read_csv(\"gsID_CA.csv\", header=None)\n",
    "print(gsID_CA.head())\n",
    "gsIDs=gsID_CA[0].tolist()\n",
    "print(len(gsIDs))\n",
    "gsIDs[0:10]"
   ]
  },
  {
   "cell_type": "code",
   "execution_count": 27,
   "metadata": {},
   "outputs": [
    {
     "data": {
      "text/plain": [
       "b'<?xml version=\"1.0\" encoding=\"UTF-8\" standalone=\"yes\"?><error><errorCode>3</errorCode><faultString>Invalid API key.</faultString><date>2019/07/24</date><call>/reviews/city/CA/San-Mateo</call></error>'"
      ]
     },
     "execution_count": 27,
     "metadata": {},
     "output_type": "execute_result"
    }
   ],
   "source": [
    "# request\n",
    "response = requests.get(queryURL)\n",
    "response.content"
   ]
  },
  {
   "cell_type": "code",
   "execution_count": null,
   "metadata": {},
   "outputs": [],
   "source": []
  },
  {
   "cell_type": "code",
   "execution_count": null,
   "metadata": {},
   "outputs": [],
   "source": []
  },
  {
   "cell_type": "code",
   "execution_count": null,
   "metadata": {},
   "outputs": [],
   "source": []
  },
  {
   "cell_type": "code",
   "execution_count": null,
   "metadata": {},
   "outputs": [],
   "source": []
  },
  {
   "cell_type": "code",
   "execution_count": null,
   "metadata": {},
   "outputs": [],
   "source": []
  },
  {
   "cell_type": "code",
   "execution_count": null,
   "metadata": {},
   "outputs": [],
   "source": []
  }
 ],
 "metadata": {
  "kernelspec": {
   "display_name": "Python 3",
   "language": "python",
   "name": "python3"
  },
  "language_info": {
   "codemirror_mode": {
    "name": "ipython",
    "version": 3
   },
   "file_extension": ".py",
   "mimetype": "text/x-python",
   "name": "python",
   "nbconvert_exporter": "python",
   "pygments_lexer": "ipython3",
   "version": "3.7.3"
  }
 },
 "nbformat": 4,
 "nbformat_minor": 2
}
